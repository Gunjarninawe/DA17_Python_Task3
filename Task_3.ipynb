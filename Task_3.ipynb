{
 "cells": [
  {
   "cell_type": "markdown",
   "id": "93a9a7a7",
   "metadata": {},
   "source": [
    "# Integer"
   ]
  },
  {
   "cell_type": "code",
   "execution_count": 8,
   "id": "4666a3bc",
   "metadata": {},
   "outputs": [
    {
     "name": "stdout",
     "output_type": "stream",
     "text": [
      "The person is elderly\n"
     ]
    }
   ],
   "source": [
    "Age = input(\"Enter the age of the person: \")\n",
    "Age = int(Age)\n",
    "\n",
    "if Age >= 65:\n",
    "    print(\"The person is elderly\")\n",
    "elif Age >= 50:\n",
    "    print(\"The person is a senior\")\n",
    "elif Age >= 35:\n",
    "    print(\"The person is middle-aged\")\n",
    "elif Age >= 20:\n",
    "    print(\"The person is young\")\n",
    "else:\n",
    "    print(\"The person is a child\")"
   ]
  },
  {
   "cell_type": "code",
   "execution_count": 2,
   "id": "dc663f42",
   "metadata": {},
   "outputs": [],
   "source": [
    "Name = input(\"Gunjar \")\n",
    "Age = input(\"20 \")\n",
    "Age = int(Age)"
   ]
  },
  {
   "cell_type": "markdown",
   "id": "240d9c74",
   "metadata": {},
   "source": [
    "# List"
   ]
  },
  {
   "cell_type": "code",
   "execution_count": 3,
   "id": "16030ab0",
   "metadata": {},
   "outputs": [
    {
     "name": "stdout",
     "output_type": "stream",
     "text": [
      "4\n"
     ]
    }
   ],
   "source": [
    "l2 = [10, 23, 45, 67, 89]\n",
    "l2.remove(45)\n",
    "print(len(l2))"
   ]
  },
  {
   "cell_type": "code",
   "execution_count": 7,
   "id": "63883cad",
   "metadata": {},
   "outputs": [
    {
     "name": "stdout",
     "output_type": "stream",
     "text": [
      "short\n"
     ]
    }
   ],
   "source": [
    "if len(l2) > 5:\n",
    "    print(\"long\")\n",
    "else:\n",
    "    print(\"short\")\n"
   ]
  },
  {
   "cell_type": "code",
   "execution_count": 11,
   "id": "8f3129d5",
   "metadata": {},
   "outputs": [
    {
     "name": "stdout",
     "output_type": "stream",
     "text": [
      "List has elements and contains 35.\n",
      "List is empty OR has fewer than 5 items.\n"
     ]
    }
   ],
   "source": [
    "list = [25, 35, 55]\n",
    "\n",
    "\n",
    "if list and 35 in list:\n",
    "    print(\"List has elements and contains 35.\")\n",
    "else:\n",
    "    print(\"List is empty or 35 not found.\")\n",
    "\n",
    "\n",
    "if not list or len(list) < 5:\n",
    "    print(\"List is empty OR has fewer than 5 items.\")\n"
   ]
  },
  {
   "cell_type": "markdown",
   "id": "dd6f6f8e",
   "metadata": {},
   "source": [
    "# String"
   ]
  },
  {
   "cell_type": "code",
   "execution_count": 15,
   "id": "1c7cd454",
   "metadata": {},
   "outputs": [
    {
     "name": "stdout",
     "output_type": "stream",
     "text": [
      "At least one string is empty.\n"
     ]
    }
   ],
   "source": [
    "\n",
    "str1=\"Gunjar\"\n",
    "str2=\"\"\n",
    "\n",
    "if str1 and str2:\n",
    "    print(\"Both strings are non-empty.\")\n",
    "else:\n",
    "    print(\"At least one string is empty.\")"
   ]
  },
  {
   "cell_type": "code",
   "execution_count": 14,
   "id": "288aa01e",
   "metadata": {},
   "outputs": [
    {
     "name": "stdout",
     "output_type": "stream",
     "text": [
      "both are string\n"
     ]
    }
   ],
   "source": [
    "str1 = \"Gunjar\"\n",
    "str2 = \"Ninawe\"\n",
    "\n",
    "if type(str1) == str and type(str2) == str:\n",
    "    print(\"both are string\")\n",
    "else:\n",
    "    print(\"both are not string\")"
   ]
  },
  {
   "cell_type": "markdown",
   "id": "411b908b",
   "metadata": {},
   "source": [
    "# Dictionary"
   ]
  },
  {
   "cell_type": "code",
   "execution_count": 16,
   "id": "45103799",
   "metadata": {},
   "outputs": [
    {
     "name": "stdout",
     "output_type": "stream",
     "text": [
      "Gunjar\n",
      "The name is Gunjar\n",
      "He is 20 years old\n",
      "The name is not Lucky\n"
     ]
    }
   ],
   "source": [
    "Person = {\n",
    "    \"Name\": \"Gunjar\",\n",
    "    \"Age\": 20,\n",
    "    \"City\": \"Nagpur\",\n",
    "    \"Country\": \"India\"\n",
    "}\n",
    "print(Person[\"Name\"])\n",
    "\n",
    "if Person[\"Name\"] == \"Gunjar\" and Person[\"Age\"] == 20:\n",
    "    print(\"The name is Gunjar\")\n",
    "    print(\"He is 20 years old\")\n",
    "else:\n",
    "    print(\"The name is not Gunjar\")\n",
    "\n",
    "if Person[\"Name\"] == \"Lucky\" or Person[\"Age\"] == 21:\n",
    "    print(\"The name is Lucky\")\n",
    "    print(\"He is 21 years old\")\n",
    "else:\n",
    "    print(\"The name is not Lucky\")"
   ]
  },
  {
   "cell_type": "code",
   "execution_count": null,
   "id": "52cbb15e",
   "metadata": {},
   "outputs": [],
   "source": []
  }
 ],
 "metadata": {
  "kernelspec": {
   "display_name": "Python 3",
   "language": "python",
   "name": "python3"
  },
  "language_info": {
   "codemirror_mode": {
    "name": "ipython",
    "version": 3
   },
   "file_extension": ".py",
   "mimetype": "text/x-python",
   "name": "python",
   "nbconvert_exporter": "python",
   "pygments_lexer": "ipython3",
   "version": "3.9.12"
  }
 },
 "nbformat": 4,
 "nbformat_minor": 5
}
