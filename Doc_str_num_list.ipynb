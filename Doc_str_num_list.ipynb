{
 "cells": [
  {
   "cell_type": "markdown",
   "id": "0d08e6e5",
   "metadata": {},
   "source": [
    "# String Method"
   ]
  },
  {
   "cell_type": "code",
   "execution_count": 2,
   "id": "31b6300a",
   "metadata": {},
   "outputs": [
    {
     "name": "stdout",
     "output_type": "stream",
     "text": [
      "Original String: ' Hello, World! '\n",
      "s.capitalize():  hello, world! \n",
      "s.casefold():  hello, world! \n",
      "s.center(20, '*'): ** Hello, World! ***\n",
      "s.count('l'): 3\n",
      "s.encode(): b' Hello, World! '\n",
      "s.endswith('!'): False\n",
      "s.expandtabs(4): Hello   World\n",
      "s.find('World'): 8\n",
      "s.format(): The number is 7\n",
      "s.index('World'): 8\n",
      "s.isalnum(): False\n",
      "s.isalpha(): False\n",
      "s.isdecimal(): True\n",
      "s.isdigit(): True\n",
      "s.isidentifier(): True\n",
      "s.islower(): True\n",
      "s.isnumeric(): True\n",
      "s.isprintable(): True\n",
      "s.isspace(): True\n",
      "s.istitle(): True\n",
      "s.isupper(): True\n",
      "s.join(['a', 'b', 'c']): a-b-c\n",
      "s.ljust(20, '-'):  Hello, World! -----\n",
      "s.lower():  hello, world! \n",
      "s.lstrip(): Hello, World! \n",
      "s.partition(','): (' Hello', ',', ' World! ')\n",
      "s.replace('World', 'Python'):  Hello, Python! \n",
      "s.rfind('o'): 9\n",
      "s.rindex('o'): 9\n",
      "s.rjust(20, '*'): ***** Hello, World! \n",
      "s.rsplit(): ['Hello,', 'World!']\n",
      "s.rstrip():  Hello, World!\n",
      "s.split(): ['Hello,', 'World!']\n",
      "s.splitlines(): ['Line1', 'Line2']\n",
      "s.startswith(' '): True\n",
      "s.strip(): Hello, World!\n",
      "s.swapcase():  hELLO, wORLD! \n",
      "s.title():  Hello, World! \n",
      "s.upper():  HELLO, WORLD! \n",
      "s.zfill(15):  Hello, World! \n"
     ]
    }
   ],
   "source": [
    "\n",
    "# String Methods\n",
    "\n",
    "s = \" Hello, World! \"\n",
    "\n",
    "print(\"Original String:\", repr(s))\n",
    "\n",
    "print(\"s.capitalize():\", s.capitalize())\n",
    "print(\"s.casefold():\", s.casefold())\n",
    "print(\"s.center(20, '*'):\", s.center(20, '*'))\n",
    "print(\"s.count('l'):\", s.count('l'))\n",
    "print(\"s.encode():\", s.encode())\n",
    "print(\"s.endswith('!'):\", s.endswith('!'))\n",
    "print(\"s.expandtabs(4):\", \"Hello\\tWorld\".expandtabs(4))\n",
    "print(\"s.find('World'):\", s.find('World'))\n",
    "print(\"s.format():\", \"The number is {}\".format(7))\n",
    "print(\"s.index('World'):\", s.index('World'))\n",
    "print(\"s.isalnum():\", s.isalnum())\n",
    "print(\"s.isalpha():\", s.isalpha())\n",
    "print(\"s.isdecimal():\", \"123\".isdecimal())\n",
    "print(\"s.isdigit():\", \"123\".isdigit())\n",
    "print(\"s.isidentifier():\", \"var1\".isidentifier())\n",
    "print(\"s.islower():\", \"hello\".islower())\n",
    "print(\"s.isnumeric():\", \"123\".isnumeric())\n",
    "print(\"s.isprintable():\", \"Hello!\".isprintable())\n",
    "print(\"s.isspace():\", \"   \".isspace())\n",
    "print(\"s.istitle():\", \"Hello World\".istitle())\n",
    "print(\"s.isupper():\", \"HELLO\".isupper())\n",
    "print(\"s.join(['a', 'b', 'c']):\", \"-\".join(['a', 'b', 'c']))\n",
    "print(\"s.ljust(20, '-'):\", s.ljust(20, '-'))\n",
    "print(\"s.lower():\", s.lower())\n",
    "print(\"s.lstrip():\", s.lstrip())\n",
    "print(\"s.partition(','):\", s.partition(','))\n",
    "print(\"s.replace('World', 'Python'):\", s.replace('World', 'Python'))\n",
    "print(\"s.rfind('o'):\", s.rfind('o'))\n",
    "print(\"s.rindex('o'):\", s.rindex('o'))\n",
    "print(\"s.rjust(20, '*'):\", s.rjust(20, '*'))\n",
    "print(\"s.rsplit():\", s.rsplit())\n",
    "print(\"s.rstrip():\", s.rstrip())\n",
    "print(\"s.split():\", s.split())\n",
    "print(\"s.splitlines():\", \"Line1\\nLine2\".splitlines())\n",
    "print(\"s.startswith(' '):\", s.startswith(' '))\n",
    "print(\"s.strip():\", s.strip())\n",
    "print(\"s.swapcase():\", s.swapcase())\n",
    "print(\"s.title():\", s.title())\n",
    "print(\"s.upper():\", s.upper())\n",
    "print(\"s.zfill(15):\", s.zfill(15))\n"
   ]
  },
  {
   "cell_type": "markdown",
   "id": "d9b37e57",
   "metadata": {},
   "source": [
    "# Number Method"
   ]
  },
  {
   "cell_type": "code",
   "execution_count": 1,
   "id": "5d1c88d1",
   "metadata": {},
   "outputs": [
    {
     "name": "stdout",
     "output_type": "stream",
     "text": [
      "abs(x): 42\n",
      "divmod(10, 3): (3, 1)\n",
      "pow(2, 3): 8\n",
      "round(y, 2): 3.14\n",
      "bin(10): 0b1010\n",
      "oct(10): 0o12\n",
      "hex(10): 0xa\n",
      "int('10'): 10\n",
      "float('3.14'): 3.14\n",
      "math.ceil(y): 4\n",
      "math.floor(y): 3\n",
      "math.sqrt(16): 4.0\n",
      "math.factorial(5): 120\n",
      "math.gcd(48, 64): 16\n",
      "math.log(100, 10): 2.0\n",
      "math.sin(math.pi/2): 1.0\n"
     ]
    }
   ],
   "source": [
    "\n",
    "# Number Methods and Functions\n",
    "\n",
    "# Basic number types\n",
    "x = -42\n",
    "y = 3.14159\n",
    "\n",
    "# Built-in functions\n",
    "print(\"abs(x):\", abs(x))\n",
    "print(\"divmod(10, 3):\", divmod(10, 3))\n",
    "print(\"pow(2, 3):\", pow(2, 3))\n",
    "print(\"round(y, 2):\", round(y, 2))\n",
    "\n",
    "# Conversion\n",
    "print(\"bin(10):\", bin(10))\n",
    "print(\"oct(10):\", oct(10))\n",
    "print(\"hex(10):\", hex(10))\n",
    "print(\"int('10'):\", int('10'))\n",
    "print(\"float('3.14'):\", float('3.14'))\n",
    "\n",
    "# Math module\n",
    "import math\n",
    "print(\"math.ceil(y):\", math.ceil(y))\n",
    "print(\"math.floor(y):\", math.floor(y))\n",
    "print(\"math.sqrt(16):\", math.sqrt(16))\n",
    "print(\"math.factorial(5):\", math.factorial(5))\n",
    "print(\"math.gcd(48, 64):\", math.gcd(48, 64))\n",
    "print(\"math.log(100, 10):\", math.log(100, 10))\n",
    "print(\"math.sin(math.pi/2):\", math.sin(math.pi/2))\n"
   ]
  },
  {
   "cell_type": "markdown",
   "id": "ea5d5900",
   "metadata": {},
   "source": [
    "# List Method\n"
   ]
  },
  {
   "cell_type": "code",
   "execution_count": 3,
   "id": "9cf725a8",
   "metadata": {},
   "outputs": [
    {
     "name": "stdout",
     "output_type": "stream",
     "text": [
      "Original List: [1, 2, 3, 4, 5]\n",
      "After append(6): [1, 2, 3, 4, 5, 6]\n",
      "After extend([7, 8]): [1, 2, 3, 4, 5, 6, 7, 8]\n",
      "After insert(0, 0): [0, 1, 2, 3, 4, 5, 6, 7, 8]\n",
      "After remove(3): [0, 1, 2, 4, 5, 6, 7, 8]\n",
      "pop(): 8\n",
      "index(4): 3\n",
      "count(2): 1\n",
      "After sort(): [0, 1, 2, 4, 5, 6, 7]\n",
      "After reverse(): [7, 6, 5, 4, 2, 1, 0]\n",
      "After clear(): []\n"
     ]
    }
   ],
   "source": [
    "\n",
    "# List Methods\n",
    "\n",
    "lst = [1, 2, 3, 4, 5]\n",
    "print(\"Original List:\", lst)\n",
    "\n",
    "lst.append(6)\n",
    "print(\"After append(6):\", lst)\n",
    "\n",
    "lst.extend([7, 8])\n",
    "print(\"After extend([7, 8]):\", lst)\n",
    "\n",
    "lst.insert(0, 0)\n",
    "print(\"After insert(0, 0):\", lst)\n",
    "\n",
    "lst.remove(3)\n",
    "print(\"After remove(3):\", lst)\n",
    "\n",
    "print(\"pop():\", lst.pop())\n",
    "\n",
    "print(\"index(4):\", lst.index(4))\n",
    "\n",
    "print(\"count(2):\", lst.count(2))\n",
    "\n",
    "lst.sort()\n",
    "print(\"After sort():\", lst)\n",
    "\n",
    "lst.reverse()\n",
    "print(\"After reverse():\", lst)\n",
    "\n",
    "lst.clear()\n",
    "print(\"After clear():\", lst)\n"
   ]
  },
  {
   "cell_type": "code",
   "execution_count": null,
   "id": "1553e049",
   "metadata": {},
   "outputs": [],
   "source": []
  }
 ],
 "metadata": {
  "kernelspec": {
   "display_name": "Python 3",
   "language": "python",
   "name": "python3"
  },
  "language_info": {
   "codemirror_mode": {
    "name": "ipython",
    "version": 3
   },
   "file_extension": ".py",
   "mimetype": "text/x-python",
   "name": "python",
   "nbconvert_exporter": "python",
   "pygments_lexer": "ipython3",
   "version": "3.9.12"
  }
 },
 "nbformat": 4,
 "nbformat_minor": 5
}
